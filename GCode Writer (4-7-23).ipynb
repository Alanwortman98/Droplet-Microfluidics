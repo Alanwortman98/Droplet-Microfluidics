{
 "cells": [
  {
   "cell_type": "markdown",
   "id": "af6c894d",
   "metadata": {},
   "source": [
    "# Load and handle data from a CSV file"
   ]
  },
  {
   "cell_type": "markdown",
   "id": "8e4d8a02",
   "metadata": {},
   "source": [
    "# Create a dataframe which keeps track of the combinations"
   ]
  },
  {
   "cell_type": "code",
   "execution_count": 32,
   "id": "4d10d972",
   "metadata": {},
   "outputs": [
    {
     "data": {
      "text/html": [
       "<div>\n",
       "<style scoped>\n",
       "    .dataframe tbody tr th:only-of-type {\n",
       "        vertical-align: middle;\n",
       "    }\n",
       "\n",
       "    .dataframe tbody tr th {\n",
       "        vertical-align: top;\n",
       "    }\n",
       "\n",
       "    .dataframe thead th {\n",
       "        text-align: right;\n",
       "    }\n",
       "</style>\n",
       "<table border=\"1\" class=\"dataframe\">\n",
       "  <thead>\n",
       "    <tr style=\"text-align: right;\">\n",
       "      <th></th>\n",
       "      <th>well_1</th>\n",
       "      <th>well_2</th>\n",
       "      <th>well_3</th>\n",
       "      <th>coordinates</th>\n",
       "    </tr>\n",
       "  </thead>\n",
       "  <tbody>\n",
       "    <tr>\n",
       "      <th>0</th>\n",
       "      <td>A1</td>\n",
       "      <td>B1</td>\n",
       "      <td>C1</td>\n",
       "      <td>((0.0, 0.0), (0.0, 4.5), (0.0, 9.0))</td>\n",
       "    </tr>\n",
       "    <tr>\n",
       "      <th>1</th>\n",
       "      <td>A1</td>\n",
       "      <td>B1</td>\n",
       "      <td>C2</td>\n",
       "      <td>((0.0, 0.0), (0.0, 4.5), (4.5, 9.0))</td>\n",
       "    </tr>\n",
       "    <tr>\n",
       "      <th>2</th>\n",
       "      <td>A1</td>\n",
       "      <td>B2</td>\n",
       "      <td>C1</td>\n",
       "      <td>((0.0, 0.0), (4.5, 4.5), (0.0, 9.0))</td>\n",
       "    </tr>\n",
       "    <tr>\n",
       "      <th>3</th>\n",
       "      <td>A1</td>\n",
       "      <td>B2</td>\n",
       "      <td>C2</td>\n",
       "      <td>((0.0, 0.0), (4.5, 4.5), (4.5, 9.0))</td>\n",
       "    </tr>\n",
       "    <tr>\n",
       "      <th>4</th>\n",
       "      <td>A1</td>\n",
       "      <td>B3</td>\n",
       "      <td>C1</td>\n",
       "      <td>((0.0, 0.0), (9.0, 4.5), (0.0, 9.0))</td>\n",
       "    </tr>\n",
       "  </tbody>\n",
       "</table>\n",
       "</div>"
      ],
      "text/plain": [
       "  well_1 well_2 well_3                           coordinates\n",
       "0     A1     B1     C1  ((0.0, 0.0), (0.0, 4.5), (0.0, 9.0))\n",
       "1     A1     B1     C2  ((0.0, 0.0), (0.0, 4.5), (4.5, 9.0))\n",
       "2     A1     B2     C1  ((0.0, 0.0), (4.5, 4.5), (0.0, 9.0))\n",
       "3     A1     B2     C2  ((0.0, 0.0), (4.5, 4.5), (4.5, 9.0))\n",
       "4     A1     B3     C1  ((0.0, 0.0), (9.0, 4.5), (0.0, 9.0))"
      ]
     },
     "execution_count": 32,
     "metadata": {},
     "output_type": "execute_result"
    }
   ],
   "source": [
    "import pandas as pd\n",
    "import itertools\n",
    "import numpy as np\n",
    "\n",
    "'''When loading data, it is extremely important to have every descriptor column filled for each reagent.\n",
    "If not, certain rows will get dropped when the .dropna() function is called in the updated dataframe.'''\n",
    "\n",
    "reagent_data = pd.read_csv('/Users/alanwortman/Desktop/Well Plate Example 2.csv')\n",
    "reagent_data\n",
    "\n",
    "'''This function takes a CSV file of what's on the well plate and adds a \n",
    "column with the coordinates for each well as a tuple. \n",
    "CSV files must use the template for this to work.'''\n",
    "\n",
    "def create_coordinates(dataframe): \n",
    "    coordinates = []\n",
    "    for i in reagent_data.index:\n",
    "        coordinates.append((reagent_data.x[i], reagent_data.y[i]))\n",
    "    dataframe['coordinates'] = coordinates    \n",
    "\n",
    "#Calling the function to the dataframe specified above ^^^\n",
    "#Creates a new dataframe with the added coordinates column\n",
    "create_coordinates(reagent_data)\n",
    "reagent_data_updated = reagent_data.dropna().reset_index(drop = True)\n",
    "\n",
    "#Create lists of all the columns (as strings), rows (as strings), and coordiantes (as tuples)\n",
    "columns = list(map(str,reagent_data_updated.plate_column.tolist())) # must be a string to concatenate with rows\n",
    "rows = reagent_data_updated.plate_row.tolist()\n",
    "coordinates = reagent_data_updated.coordinates.tolist()\n",
    "\n",
    "wells = [r + c for r,c in zip(rows, columns)] #what does this do? (it is a list of all the wells)\n",
    "wells_coords = [(r + c, (coord)) for r,c, coord in zip(rows, columns, coordinates)]\n",
    "\n",
    "#Making the full factorial well combinations as a list\n",
    "'''Here, components_coords is a list of lists, where each inner list contains the well coordinates \n",
    "for a particular component. The * operator is used to unpack this list of lists into separate arguments \n",
    "for the product function.'''\n",
    "components = sorted(list(set(rows))) #list of all the individual types of rows (ex. A, B, C)\n",
    "components_coords = [[w for w in wells_coords if w[0][0] == c] for c in components] #list of all the wells and their corresponding coordinates\n",
    "combinations = list(itertools.product(*components_coords)) #list of all the combinations\n",
    "\n",
    "\n",
    "# Create a pandas dataframe to store the combinations. \n",
    "# This will make it easy to track which reagents were in each droplet\n",
    "\n",
    "number_wells_to_sample = range(len(set(rows))) #calculates the number of different rows to go to for all the combinations\n",
    "\n",
    "#Takes all the combinations and creates a dataframe from it. Calculates the number of columns and names them based on the number of rows\n",
    "#Each row will be a different variable to test (ex. photocatalyst, base, etc)\n",
    "df_combinations = pd.DataFrame(combinations, columns = list('well_'+ str(i+1) for i in number_wells_to_sample))\n",
    "\n",
    "#Goes through the dataframe, makes a list of all the coordinates for a combo, and adds them to a new column\n",
    "df_combinations['coordinates'] = df_combinations.apply(lambda x: tuple([val[1] for val in x]), axis=1)\n",
    "\n",
    "#Drops all the coordinates associated with a well to simplify the dataframe\n",
    "df_combinations.iloc[:, :-1] = df_combinations.iloc[:, :-1].applymap(lambda x: x[0])\n",
    "df_combinations.head()\n"
   ]
  },
  {
   "cell_type": "markdown",
   "id": "fa274cd7",
   "metadata": {},
   "source": [
    "# Write Gcode from the combinations"
   ]
  },
  {
   "cell_type": "markdown",
   "id": "37e2efa6",
   "metadata": {},
   "source": [
    "### Notes"
   ]
  },
  {
   "cell_type": "code",
   "execution_count": 9,
   "id": "16fd3749",
   "metadata": {},
   "outputs": [],
   "source": [
    "# combinations = all the combinations\n",
    "# combinations[i] = specific combination\n",
    "# combinations[i][j] = well\n",
    "# combinations[i][j][k] = coordinates for k = 1\n",
    "# combinations[i][j][k][l] = x if l = 0, y if l = 1"
   ]
  },
  {
   "cell_type": "code",
   "execution_count": 38,
   "id": "7ccd292c",
   "metadata": {},
   "outputs": [
    {
     "data": {
      "text/plain": [
       "'When we add code for the pump stop/start, we will want to specify parameters for how long those pauses are. \\nIdeally this will be passed through a function where a keyword argument specifies the length of those pauses. \\nAdditionally, we will want to do this for the pauses of the CNC in the wells'"
      ]
     },
     "execution_count": 38,
     "metadata": {},
     "output_type": "execute_result"
    }
   ],
   "source": [
    "'''When we add code for the pump stop/start, we will want to specify parameters for how long those pauses are. \n",
    "Ideally this will be passed through a function where a keyword argument specifies the length of those pauses. \n",
    "Additionally, we will want to do this for the pauses of the CNC in the wells'''"
   ]
  },
  {
   "cell_type": "code",
   "execution_count": 36,
   "id": "8a0e7c29",
   "metadata": {},
   "outputs": [
    {
     "data": {
      "text/plain": [
       "'Summary of codes:\\nG00 fast move\\nG01 linear interpolation\\nG04 dwell\\n\\nF3000 feedrate command\\n\\nPx pause for x amount of time during the dwell\\n\\nM08 M09 required as the first line of every code for the pump/valve to actuate properly (Doug Dickey)\\n        these are also required after any of the M/S commands (Doug Dickey)\\n        \\nM3 S0 start pump (Doug Dickey)\\nM3 S500 pause pump (Doug Dickey)\\nM3 S1000 stop pump (Doug Dickey)\\n\\nM4 S0 position A on valve (Doug Dickey)\\nM4 S1000 position B on valve (Doug Dickey)'"
      ]
     },
     "execution_count": 36,
     "metadata": {},
     "output_type": "execute_result"
    }
   ],
   "source": [
    "# !!!In this case, the PFD well is defined as combinations[i][0] or the first well that's always sampled!!!\n",
    "\n",
    "#This function is set up to take keyword arguments\n",
    "code_lines = []\n",
    "def write_Gcode(*, combinations, PFD_dwell, organic_dwell, pause_after_pump_stop):\n",
    "    code_lines.append([\"M8 M9\"])\n",
    "    for i in range(len(combinations)):\n",
    "        for k in range(len(combinations[1])):\n",
    "            if k == 0:\n",
    "                code_lines.append([f'G01 X{combinations[i][k][1][0]} Y{combinations[i][k][1][1]} Z0.0 F3000'])\n",
    "                code_lines.append([f'G01 X{combinations[i][k][1][0]} Y{combinations[i][k][1][1]} Z-5.5 F3000'])\n",
    "                code_lines.append([\"M3 S0\"]) #pump start\n",
    "                code_lines.append([\"M8 M9\"])\n",
    "                code_lines.append([f'G04 P{PFD_dwell}']) #CNC dwell (longer for PFD)\n",
    "                code_lines.append([\"M3 S500\"]) #pump pause\n",
    "                code_lines.append([\"M8 M9\"])\n",
    "                code_lines.append([f'G04 P{pause_after_pump_stop}']) #CNC pause for pump to catch up\n",
    "                code_lines.append([f'G01 X{combinations[i][k][1][0]} Y{combinations[i][k][1][1]} Z0.0 F3000'])\n",
    "                code_lines.append([''])\n",
    "            else:\n",
    "                code_lines.append([f'G01 X{combinations[i][k][1][0]} Y{combinations[i][k][1][1]} Z0.0 F3000'])\n",
    "                code_lines.append([f'G01 X{combinations[i][k][1][0]} Y{combinations[i][k][1][1]} Z-5.5 F3000'])\n",
    "                code_lines.append([\"M3 S0\"]) #pump start\n",
    "                code_lines.append([\"M8 M9\"]) \n",
    "                code_lines.append([f'G04 P{organic_dwell}']) #CNC dwell (shorter for organic)\n",
    "                code_lines.append([\"M3 S500\"]) #pump pause\n",
    "                code_lines.append([\"M8 M9\"])\n",
    "                code_lines.append([f'G04 P{pause_after_pump_stop}']) #CNC pause for pump to catch up\n",
    "                code_lines.append([f'G01 X{combinations[i][k][1][0]} Y{combinations[i][k][1][1]} Z0.0 F3000'])\n",
    "                code_lines.append([''])\n",
    "                \n",
    "\n",
    "#example of calling the function:              \n",
    "#write_Gcode(combinations = combinations, PFD_dwell = 2, organic_dwell = 1, pause_after_pump_stop = 2)\n",
    "            \n",
    "            \n",
    "'''Summary of codes:\n",
    "G00 fast move\n",
    "G01 linear interpolation\n",
    "G04 dwell\n",
    "\n",
    "F3000 feedrate command\n",
    "\n",
    "Px pause for x amount of time during the dwell\n",
    "\n",
    "M08 M09 required as the first line of every code for the pump/valve to actuate properly (Doug Dickey)\n",
    "        these are also required after any of the M/S commands (Doug Dickey)\n",
    "        \n",
    "M3 S0 start pump (Doug Dickey)\n",
    "M3 S500 pause pump (Doug Dickey)\n",
    "M3 S1000 stop pump (Doug Dickey)\n",
    "\n",
    "M4 S0 position A on valve (Doug Dickey)\n",
    "M4 S1000 position B on valve (Doug Dickey)'''"
   ]
  },
  {
   "cell_type": "code",
   "execution_count": 30,
   "id": "aaaabdfa",
   "metadata": {},
   "outputs": [],
   "source": [
    "np.savetxt(\"Example_GCodes.txt\", code_lines, fmt = '%s')"
   ]
  },
  {
   "cell_type": "code",
   "execution_count": 34,
   "id": "e37dc3db",
   "metadata": {},
   "outputs": [],
   "source": [
    "# write_Gcode(combinations = combinations, PFD_dwell = 2, organic_dwell = 1, pause_after_pump_stop = 2)\n",
    "# code_lines"
   ]
  },
  {
   "cell_type": "code",
   "execution_count": null,
   "id": "892d41df",
   "metadata": {},
   "outputs": [],
   "source": []
  }
 ],
 "metadata": {
  "kernelspec": {
   "display_name": "Python 3 (ipykernel)",
   "language": "python",
   "name": "python3"
  },
  "language_info": {
   "codemirror_mode": {
    "name": "ipython",
    "version": 3
   },
   "file_extension": ".py",
   "mimetype": "text/x-python",
   "name": "python",
   "nbconvert_exporter": "python",
   "pygments_lexer": "ipython3",
   "version": "3.11.1"
  }
 },
 "nbformat": 4,
 "nbformat_minor": 5
}
