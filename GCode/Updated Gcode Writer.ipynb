{
 "cells": [
  {
   "cell_type": "code",
   "execution_count": 1,
   "id": "35e75d02",
   "metadata": {
    "scrolled": true
   },
   "outputs": [
    {
     "name": "stderr",
     "output_type": "stream",
     "text": [
      "/var/folders/dn/f2x781kn3wvcgnsnympncrsw0000gn/T/ipykernel_9884/620948880.py:53: FutureWarning: The frame.append method is deprecated and will be removed from pandas in a future version. Use pandas.concat instead.\n",
      "  df = df.append({'well_0': wells[0], 'well_1': wells[1], 'well_2': wells[2], 'coordinates': coords},\n",
      "/var/folders/dn/f2x781kn3wvcgnsnympncrsw0000gn/T/ipykernel_9884/620948880.py:53: FutureWarning: The frame.append method is deprecated and will be removed from pandas in a future version. Use pandas.concat instead.\n",
      "  df = df.append({'well_0': wells[0], 'well_1': wells[1], 'well_2': wells[2], 'coordinates': coords},\n",
      "/var/folders/dn/f2x781kn3wvcgnsnympncrsw0000gn/T/ipykernel_9884/620948880.py:53: FutureWarning: The frame.append method is deprecated and will be removed from pandas in a future version. Use pandas.concat instead.\n",
      "  df = df.append({'well_0': wells[0], 'well_1': wells[1], 'well_2': wells[2], 'coordinates': coords},\n",
      "/var/folders/dn/f2x781kn3wvcgnsnympncrsw0000gn/T/ipykernel_9884/620948880.py:53: FutureWarning: The frame.append method is deprecated and will be removed from pandas in a future version. Use pandas.concat instead.\n",
      "  df = df.append({'well_0': wells[0], 'well_1': wells[1], 'well_2': wells[2], 'coordinates': coords},\n",
      "/var/folders/dn/f2x781kn3wvcgnsnympncrsw0000gn/T/ipykernel_9884/620948880.py:53: FutureWarning: The frame.append method is deprecated and will be removed from pandas in a future version. Use pandas.concat instead.\n",
      "  df = df.append({'well_0': wells[0], 'well_1': wells[1], 'well_2': wells[2], 'coordinates': coords},\n",
      "/var/folders/dn/f2x781kn3wvcgnsnympncrsw0000gn/T/ipykernel_9884/620948880.py:53: FutureWarning: The frame.append method is deprecated and will be removed from pandas in a future version. Use pandas.concat instead.\n",
      "  df = df.append({'well_0': wells[0], 'well_1': wells[1], 'well_2': wells[2], 'coordinates': coords},\n",
      "/var/folders/dn/f2x781kn3wvcgnsnympncrsw0000gn/T/ipykernel_9884/620948880.py:53: FutureWarning: The frame.append method is deprecated and will be removed from pandas in a future version. Use pandas.concat instead.\n",
      "  df = df.append({'well_0': wells[0], 'well_1': wells[1], 'well_2': wells[2], 'coordinates': coords},\n",
      "/var/folders/dn/f2x781kn3wvcgnsnympncrsw0000gn/T/ipykernel_9884/620948880.py:53: FutureWarning: The frame.append method is deprecated and will be removed from pandas in a future version. Use pandas.concat instead.\n",
      "  df = df.append({'well_0': wells[0], 'well_1': wells[1], 'well_2': wells[2], 'coordinates': coords},\n",
      "/var/folders/dn/f2x781kn3wvcgnsnympncrsw0000gn/T/ipykernel_9884/620948880.py:53: FutureWarning: The frame.append method is deprecated and will be removed from pandas in a future version. Use pandas.concat instead.\n",
      "  df = df.append({'well_0': wells[0], 'well_1': wells[1], 'well_2': wells[2], 'coordinates': coords},\n",
      "/var/folders/dn/f2x781kn3wvcgnsnympncrsw0000gn/T/ipykernel_9884/620948880.py:53: FutureWarning: The frame.append method is deprecated and will be removed from pandas in a future version. Use pandas.concat instead.\n",
      "  df = df.append({'well_0': wells[0], 'well_1': wells[1], 'well_2': wells[2], 'coordinates': coords},\n",
      "/var/folders/dn/f2x781kn3wvcgnsnympncrsw0000gn/T/ipykernel_9884/620948880.py:53: FutureWarning: The frame.append method is deprecated and will be removed from pandas in a future version. Use pandas.concat instead.\n",
      "  df = df.append({'well_0': wells[0], 'well_1': wells[1], 'well_2': wells[2], 'coordinates': coords},\n",
      "/var/folders/dn/f2x781kn3wvcgnsnympncrsw0000gn/T/ipykernel_9884/620948880.py:53: FutureWarning: The frame.append method is deprecated and will be removed from pandas in a future version. Use pandas.concat instead.\n",
      "  df = df.append({'well_0': wells[0], 'well_1': wells[1], 'well_2': wells[2], 'coordinates': coords},\n",
      "/var/folders/dn/f2x781kn3wvcgnsnympncrsw0000gn/T/ipykernel_9884/620948880.py:53: FutureWarning: The frame.append method is deprecated and will be removed from pandas in a future version. Use pandas.concat instead.\n",
      "  df = df.append({'well_0': wells[0], 'well_1': wells[1], 'well_2': wells[2], 'coordinates': coords},\n",
      "/var/folders/dn/f2x781kn3wvcgnsnympncrsw0000gn/T/ipykernel_9884/620948880.py:53: FutureWarning: The frame.append method is deprecated and will be removed from pandas in a future version. Use pandas.concat instead.\n",
      "  df = df.append({'well_0': wells[0], 'well_1': wells[1], 'well_2': wells[2], 'coordinates': coords},\n",
      "/var/folders/dn/f2x781kn3wvcgnsnympncrsw0000gn/T/ipykernel_9884/620948880.py:53: FutureWarning: The frame.append method is deprecated and will be removed from pandas in a future version. Use pandas.concat instead.\n",
      "  df = df.append({'well_0': wells[0], 'well_1': wells[1], 'well_2': wells[2], 'coordinates': coords},\n",
      "/var/folders/dn/f2x781kn3wvcgnsnympncrsw0000gn/T/ipykernel_9884/620948880.py:53: FutureWarning: The frame.append method is deprecated and will be removed from pandas in a future version. Use pandas.concat instead.\n",
      "  df = df.append({'well_0': wells[0], 'well_1': wells[1], 'well_2': wells[2], 'coordinates': coords},\n",
      "/var/folders/dn/f2x781kn3wvcgnsnympncrsw0000gn/T/ipykernel_9884/620948880.py:53: FutureWarning: The frame.append method is deprecated and will be removed from pandas in a future version. Use pandas.concat instead.\n",
      "  df = df.append({'well_0': wells[0], 'well_1': wells[1], 'well_2': wells[2], 'coordinates': coords},\n",
      "/var/folders/dn/f2x781kn3wvcgnsnympncrsw0000gn/T/ipykernel_9884/620948880.py:53: FutureWarning: The frame.append method is deprecated and will be removed from pandas in a future version. Use pandas.concat instead.\n",
      "  df = df.append({'well_0': wells[0], 'well_1': wells[1], 'well_2': wells[2], 'coordinates': coords},\n",
      "/var/folders/dn/f2x781kn3wvcgnsnympncrsw0000gn/T/ipykernel_9884/620948880.py:53: FutureWarning: The frame.append method is deprecated and will be removed from pandas in a future version. Use pandas.concat instead.\n",
      "  df = df.append({'well_0': wells[0], 'well_1': wells[1], 'well_2': wells[2], 'coordinates': coords},\n",
      "/var/folders/dn/f2x781kn3wvcgnsnympncrsw0000gn/T/ipykernel_9884/620948880.py:53: FutureWarning: The frame.append method is deprecated and will be removed from pandas in a future version. Use pandas.concat instead.\n",
      "  df = df.append({'well_0': wells[0], 'well_1': wells[1], 'well_2': wells[2], 'coordinates': coords},\n",
      "/var/folders/dn/f2x781kn3wvcgnsnympncrsw0000gn/T/ipykernel_9884/620948880.py:53: FutureWarning: The frame.append method is deprecated and will be removed from pandas in a future version. Use pandas.concat instead.\n",
      "  df = df.append({'well_0': wells[0], 'well_1': wells[1], 'well_2': wells[2], 'coordinates': coords},\n",
      "/var/folders/dn/f2x781kn3wvcgnsnympncrsw0000gn/T/ipykernel_9884/620948880.py:53: FutureWarning: The frame.append method is deprecated and will be removed from pandas in a future version. Use pandas.concat instead.\n",
      "  df = df.append({'well_0': wells[0], 'well_1': wells[1], 'well_2': wells[2], 'coordinates': coords},\n",
      "/var/folders/dn/f2x781kn3wvcgnsnympncrsw0000gn/T/ipykernel_9884/620948880.py:53: FutureWarning: The frame.append method is deprecated and will be removed from pandas in a future version. Use pandas.concat instead.\n",
      "  df = df.append({'well_0': wells[0], 'well_1': wells[1], 'well_2': wells[2], 'coordinates': coords},\n",
      "/var/folders/dn/f2x781kn3wvcgnsnympncrsw0000gn/T/ipykernel_9884/620948880.py:53: FutureWarning: The frame.append method is deprecated and will be removed from pandas in a future version. Use pandas.concat instead.\n",
      "  df = df.append({'well_0': wells[0], 'well_1': wells[1], 'well_2': wells[2], 'coordinates': coords},\n"
     ]
    },
    {
     "data": {
      "text/html": [
       "<div>\n",
       "<style scoped>\n",
       "    .dataframe tbody tr th:only-of-type {\n",
       "        vertical-align: middle;\n",
       "    }\n",
       "\n",
       "    .dataframe tbody tr th {\n",
       "        vertical-align: top;\n",
       "    }\n",
       "\n",
       "    .dataframe thead th {\n",
       "        text-align: right;\n",
       "    }\n",
       "</style>\n",
       "<table border=\"1\" class=\"dataframe\">\n",
       "  <thead>\n",
       "    <tr style=\"text-align: right;\">\n",
       "      <th></th>\n",
       "      <th>well_0</th>\n",
       "      <th>well_1</th>\n",
       "      <th>well_2</th>\n",
       "      <th>coordinates</th>\n",
       "    </tr>\n",
       "  </thead>\n",
       "  <tbody>\n",
       "    <tr>\n",
       "      <th>0</th>\n",
       "      <td>A1</td>\n",
       "      <td>B1</td>\n",
       "      <td>C1</td>\n",
       "      <td>[(0.0, 0.0), (0.0, 4.5), (0.0, 9.0)]</td>\n",
       "    </tr>\n",
       "    <tr>\n",
       "      <th>1</th>\n",
       "      <td>A1</td>\n",
       "      <td>B1</td>\n",
       "      <td>C2</td>\n",
       "      <td>[(0.0, 0.0), (0.0, 4.5), (4.5, 9.0)]</td>\n",
       "    </tr>\n",
       "    <tr>\n",
       "      <th>2</th>\n",
       "      <td>A1</td>\n",
       "      <td>B2</td>\n",
       "      <td>C1</td>\n",
       "      <td>[(0.0, 0.0), (4.5, 4.5), (0.0, 9.0)]</td>\n",
       "    </tr>\n",
       "    <tr>\n",
       "      <th>3</th>\n",
       "      <td>A1</td>\n",
       "      <td>B2</td>\n",
       "      <td>C2</td>\n",
       "      <td>[(0.0, 0.0), (4.5, 4.5), (4.5, 9.0)]</td>\n",
       "    </tr>\n",
       "    <tr>\n",
       "      <th>4</th>\n",
       "      <td>A1</td>\n",
       "      <td>B3</td>\n",
       "      <td>C1</td>\n",
       "      <td>[(0.0, 0.0), (9.0, 4.5), (0.0, 9.0)]</td>\n",
       "    </tr>\n",
       "  </tbody>\n",
       "</table>\n",
       "</div>"
      ],
      "text/plain": [
       "  well_0 well_1 well_2                           coordinates\n",
       "0     A1     B1     C1  [(0.0, 0.0), (0.0, 4.5), (0.0, 9.0)]\n",
       "1     A1     B1     C2  [(0.0, 0.0), (0.0, 4.5), (4.5, 9.0)]\n",
       "2     A1     B2     C1  [(0.0, 0.0), (4.5, 4.5), (0.0, 9.0)]\n",
       "3     A1     B2     C2  [(0.0, 0.0), (4.5, 4.5), (4.5, 9.0)]\n",
       "4     A1     B3     C1  [(0.0, 0.0), (9.0, 4.5), (0.0, 9.0)]"
      ]
     },
     "execution_count": 1,
     "metadata": {},
     "output_type": "execute_result"
    }
   ],
   "source": [
    "import pandas as pd\n",
    "import itertools\n",
    "import numpy as np\n",
    "\n",
    "reagent_data = pd.read_csv('/Users/alanwortman/Desktop/Well Plate Example 2.csv')\n",
    "reagent_data\n",
    "\n",
    "def create_coordinates(dataframe): #this is a more updated version...use this one\n",
    "    coordinates = []\n",
    "    for i in reagent_data.index:\n",
    "        coordinates.append((reagent_data.x[i], reagent_data.y[i]))\n",
    "    dataframe['coordinates'] = coordinates    \n",
    "    \n",
    "create_coordinates(reagent_data)\n",
    "reagent_data_updated = reagent_data.dropna().reset_index(drop = True)\n",
    "reagent_data_updated\n",
    "\n",
    "columns = list(map(str,reagent_data_updated.plate_column.tolist())) # must be a string to concatenate with rows\n",
    "rows = reagent_data_updated.plate_row.tolist()\n",
    "coordinates = reagent_data_updated.coordinates.tolist()\n",
    "\n",
    "wells1 = [r + c for r,c in zip(rows, columns)]\n",
    "wells_coords = [(r + c, (coord)) for r,c, coord in zip(rows, columns, coordinates)]\n",
    "\n",
    "# Evenaually, we will want to do this without having to manually define A, B, C, etc.\n",
    "# combinations_real = list(itertools.product([w for w in wells_coords if w[0][0] == 'A'],\n",
    "#                                        [w for w in wells_coords if w[0][0] == 'B'],\n",
    "#                                        [w for w in wells_coords if w[0][0] == 'C']))\n",
    "\n",
    "# This new code doesn't require you to manually define the letters for the rows like above\n",
    "components = sorted(list(set(rows)))\n",
    "components_coords = [[w for w in wells_coords if w[0][0] == c] for c in components]\n",
    "combinations_real = list(itertools.product(*components_coords))\n",
    "\n",
    "# print(combinations_real[5])\n",
    "\n",
    "# Create a pandas dataframe to store the combinations. \n",
    "# This will make it easy to track which reagents were in each droplet\n",
    "# Eventually, we will want to do this without having to manually define the columns\n",
    "\n",
    "# wells_to_sample = len(set(rows)) #This determines how many columns you will need\n",
    "# df = pd.DataFrame(columns=['First_well', 'Second_well', 'Third_well', 'Coordinates'])\n",
    "\n",
    "number_wells_to_sample = range(len(set(rows)))\n",
    "df_columns = list('well_'+ str(i) for i in number_wells_to_sample) + ['coordinates']\n",
    "df = pd.DataFrame(columns = df_columns)\n",
    "\n",
    "# Add each combination to the dataframe\n",
    "# FutureWarning: The frame.append method is deprecated and will be removed from pandas in a future version. Use pandas.concat instead.\n",
    "for combo in combinations_real:\n",
    "    wells = [c[0] for c in combo]\n",
    "    coords = [c[1] for c in combo]\n",
    "    df = df.append({'well_0': wells[0], 'well_1': wells[1], 'well_2': wells[2], 'coordinates': coords},\n",
    "                   ignore_index=True)\n",
    "df.head()\n",
    "# NOTES ON WHAT EACH INDEX IS:\n",
    "# combo = all the combinations: 24 things in this example\n",
    "# combo[i] = specific combination: 3 things in this example\n",
    "# combo[i][j] = well: two things in this example\n",
    "# combo[i][j][k] = coordinates for k = 1: two things in this example\n",
    "# combo[i][j][k][l] = x if l = 0, y if l = 1: one thing in this example\n",
    "\n"
   ]
  },
  {
   "cell_type": "code",
   "execution_count": 76,
   "id": "098d6c02",
   "metadata": {},
   "outputs": [
    {
     "data": {
      "text/html": [
       "<div>\n",
       "<style scoped>\n",
       "    .dataframe tbody tr th:only-of-type {\n",
       "        vertical-align: middle;\n",
       "    }\n",
       "\n",
       "    .dataframe tbody tr th {\n",
       "        vertical-align: top;\n",
       "    }\n",
       "\n",
       "    .dataframe thead th {\n",
       "        text-align: right;\n",
       "    }\n",
       "</style>\n",
       "<table border=\"1\" class=\"dataframe\">\n",
       "  <thead>\n",
       "    <tr style=\"text-align: right;\">\n",
       "      <th></th>\n",
       "      <th>well_1</th>\n",
       "      <th>well_2</th>\n",
       "      <th>well_3</th>\n",
       "      <th>coordinates</th>\n",
       "    </tr>\n",
       "  </thead>\n",
       "  <tbody>\n",
       "    <tr>\n",
       "      <th>0</th>\n",
       "      <td>A1</td>\n",
       "      <td>B1</td>\n",
       "      <td>C1</td>\n",
       "      <td>((0.0, 0.0), (0.0, 4.5), (0.0, 9.0))</td>\n",
       "    </tr>\n",
       "    <tr>\n",
       "      <th>1</th>\n",
       "      <td>A1</td>\n",
       "      <td>B1</td>\n",
       "      <td>C2</td>\n",
       "      <td>((0.0, 0.0), (0.0, 4.5), (4.5, 9.0))</td>\n",
       "    </tr>\n",
       "    <tr>\n",
       "      <th>2</th>\n",
       "      <td>A1</td>\n",
       "      <td>B2</td>\n",
       "      <td>C1</td>\n",
       "      <td>((0.0, 0.0), (4.5, 4.5), (0.0, 9.0))</td>\n",
       "    </tr>\n",
       "    <tr>\n",
       "      <th>3</th>\n",
       "      <td>A1</td>\n",
       "      <td>B2</td>\n",
       "      <td>C2</td>\n",
       "      <td>((0.0, 0.0), (4.5, 4.5), (4.5, 9.0))</td>\n",
       "    </tr>\n",
       "    <tr>\n",
       "      <th>4</th>\n",
       "      <td>A1</td>\n",
       "      <td>B3</td>\n",
       "      <td>C1</td>\n",
       "      <td>((0.0, 0.0), (9.0, 4.5), (0.0, 9.0))</td>\n",
       "    </tr>\n",
       "  </tbody>\n",
       "</table>\n",
       "</div>"
      ],
      "text/plain": [
       "  well_1 well_2 well_3                           coordinates\n",
       "0     A1     B1     C1  ((0.0, 0.0), (0.0, 4.5), (0.0, 9.0))\n",
       "1     A1     B1     C2  ((0.0, 0.0), (0.0, 4.5), (4.5, 9.0))\n",
       "2     A1     B2     C1  ((0.0, 0.0), (4.5, 4.5), (0.0, 9.0))\n",
       "3     A1     B2     C2  ((0.0, 0.0), (4.5, 4.5), (4.5, 9.0))\n",
       "4     A1     B3     C1  ((0.0, 0.0), (9.0, 4.5), (0.0, 9.0))"
      ]
     },
     "execution_count": 76,
     "metadata": {},
     "output_type": "execute_result"
    }
   ],
   "source": [
    "# wells7 = []\n",
    "# for combo in combinations_real:\n",
    "#     wells7.append([c[0] for c in combo])\n",
    "# # print(type(combinations_real[1]))\n",
    "# hi = list(zip(*combinations_real))\n",
    "\n",
    "df80 = pd.DataFrame(combinations_real, columns = list('well_'+ str(i+1) for i in number_wells_to_sample))\n",
    "df80.head()\n",
    "# df80['coordinates'] = list(range(len(df.index)))\n",
    "df80['coordinates'] = df80.apply(lambda x: tuple([val[1] for val in x]), axis=1)\n",
    "\n",
    "\n",
    "df80.iloc[:, :-1] = df80.iloc[:, :-1].applymap(lambda x: x[0])\n",
    "df80.head()\n",
    "# df80.applymap(lambda x: x[0])\n"
   ]
  },
  {
   "cell_type": "code",
   "execution_count": 70,
   "id": "202a4b35",
   "metadata": {},
   "outputs": [
    {
     "name": "stdout",
     "output_type": "stream",
     "text": [
      "range(0, 3)\n"
     ]
    }
   ],
   "source": [
    "hi = range(len(combinations_real[1]))\n",
    "print(hi)\n",
    "\n",
    "for combo in combinations_real:\n",
    "    for i in combinations_real\n",
    "            print([f\"G01 X{combinations_real[i][j][1][0]} Y{combinations_real[i][j][1][1]} Z0.0 F3000\"])\n",
    "        if i > 2:\n",
    "            break"
   ]
  },
  {
   "cell_type": "code",
   "execution_count": 8,
   "id": "6d134f89",
   "metadata": {},
   "outputs": [],
   "source": [
    "# for i in range(len(combinations_real)):\n",
    "#     for j in range(len(combinations_real[1])):\n",
    "#         print([f\"G01 X{combinations_real[i][j][1][0]} Y{combinations_real[i][j][1][1]} Z0.0 F3000\"])\n",
    "#         print([f\"G01 X{combinations_real[i][j][1][0]} Y{combinations_real[i][j][1][1]} Z-5.5 F3000\"])\n",
    "#         print([\"G04 P0.5\"])\n",
    "#         print([f\"G01 X{combinations_real[i][j][1][0]} Y{combinations_real[i][j][1][1]} Z0.0 F3000\"])\n",
    "#         print('')\n",
    "#     if i == 1:\n",
    "#         break"
   ]
  },
  {
   "cell_type": "code",
   "execution_count": 73,
   "id": "4e8cf622",
   "metadata": {},
   "outputs": [
    {
     "name": "stdout",
     "output_type": "stream",
     "text": [
      "['G01 X0.0 Y0.0 Z0.0 F3000'] A1\n",
      "['G01 X0.0 Y4.5 Z0.0 F3000'] B1\n",
      "['G01 X0.0 Y9.0 Z0.0 F3000'] C1\n",
      "['G01 X0.0 Y0.0 Z0.0 F3000'] A1\n",
      "['G01 X0.0 Y4.5 Z0.0 F3000'] B1\n",
      "['G01 X4.5 Y9.0 Z0.0 F3000'] C2\n",
      "['G01 X0.0 Y0.0 Z0.0 F3000'] A1\n",
      "['G01 X4.5 Y4.5 Z0.0 F3000'] B2\n",
      "['G01 X0.0 Y9.0 Z0.0 F3000'] C1\n",
      "['G01 X0.0 Y0.0 Z0.0 F3000'] A1\n",
      "['G01 X4.5 Y4.5 Z0.0 F3000'] B2\n",
      "['G01 X4.5 Y9.0 Z0.0 F3000'] C2\n",
      "['G01 X0.0 Y0.0 Z0.0 F3000'] A1\n",
      "['G01 X9.0 Y4.5 Z0.0 F3000'] B3\n",
      "['G01 X0.0 Y9.0 Z0.0 F3000'] C1\n",
      "['G01 X0.0 Y0.0 Z0.0 F3000'] A1\n",
      "['G01 X9.0 Y4.5 Z0.0 F3000'] B3\n",
      "['G01 X4.5 Y9.0 Z0.0 F3000'] C2\n",
      "['G01 X0.0 Y0.0 Z0.0 F3000'] A1\n",
      "['G01 X13.5 Y4.5 Z0.0 F3000'] B4\n",
      "['G01 X0.0 Y9.0 Z0.0 F3000'] C1\n",
      "['G01 X0.0 Y0.0 Z0.0 F3000'] A1\n",
      "['G01 X13.5 Y4.5 Z0.0 F3000'] B4\n",
      "['G01 X4.5 Y9.0 Z0.0 F3000'] C2\n",
      "['G01 X4.5 Y0.0 Z0.0 F3000'] A2\n",
      "['G01 X0.0 Y4.5 Z0.0 F3000'] B1\n",
      "['G01 X0.0 Y9.0 Z0.0 F3000'] C1\n",
      "['G01 X4.5 Y0.0 Z0.0 F3000'] A2\n",
      "['G01 X0.0 Y4.5 Z0.0 F3000'] B1\n",
      "['G01 X4.5 Y9.0 Z0.0 F3000'] C2\n",
      "['G01 X4.5 Y0.0 Z0.0 F3000'] A2\n",
      "['G01 X4.5 Y4.5 Z0.0 F3000'] B2\n",
      "['G01 X0.0 Y9.0 Z0.0 F3000'] C1\n",
      "['G01 X4.5 Y0.0 Z0.0 F3000'] A2\n",
      "['G01 X4.5 Y4.5 Z0.0 F3000'] B2\n",
      "['G01 X4.5 Y9.0 Z0.0 F3000'] C2\n",
      "['G01 X4.5 Y0.0 Z0.0 F3000'] A2\n",
      "['G01 X9.0 Y4.5 Z0.0 F3000'] B3\n",
      "['G01 X0.0 Y9.0 Z0.0 F3000'] C1\n",
      "['G01 X4.5 Y0.0 Z0.0 F3000'] A2\n",
      "['G01 X9.0 Y4.5 Z0.0 F3000'] B3\n",
      "['G01 X4.5 Y9.0 Z0.0 F3000'] C2\n",
      "['G01 X4.5 Y0.0 Z0.0 F3000'] A2\n",
      "['G01 X13.5 Y4.5 Z0.0 F3000'] B4\n",
      "['G01 X0.0 Y9.0 Z0.0 F3000'] C1\n",
      "['G01 X4.5 Y0.0 Z0.0 F3000'] A2\n",
      "['G01 X13.5 Y4.5 Z0.0 F3000'] B4\n",
      "['G01 X4.5 Y9.0 Z0.0 F3000'] C2\n",
      "['G01 X9.0 Y0.0 Z0.0 F3000'] A3\n",
      "['G01 X0.0 Y4.5 Z0.0 F3000'] B1\n",
      "['G01 X0.0 Y9.0 Z0.0 F3000'] C1\n",
      "['G01 X9.0 Y0.0 Z0.0 F3000'] A3\n",
      "['G01 X0.0 Y4.5 Z0.0 F3000'] B1\n",
      "['G01 X4.5 Y9.0 Z0.0 F3000'] C2\n",
      "['G01 X9.0 Y0.0 Z0.0 F3000'] A3\n",
      "['G01 X4.5 Y4.5 Z0.0 F3000'] B2\n",
      "['G01 X0.0 Y9.0 Z0.0 F3000'] C1\n",
      "['G01 X9.0 Y0.0 Z0.0 F3000'] A3\n",
      "['G01 X4.5 Y4.5 Z0.0 F3000'] B2\n",
      "['G01 X4.5 Y9.0 Z0.0 F3000'] C2\n",
      "['G01 X9.0 Y0.0 Z0.0 F3000'] A3\n",
      "['G01 X9.0 Y4.5 Z0.0 F3000'] B3\n",
      "['G01 X0.0 Y9.0 Z0.0 F3000'] C1\n",
      "['G01 X9.0 Y0.0 Z0.0 F3000'] A3\n",
      "['G01 X9.0 Y4.5 Z0.0 F3000'] B3\n",
      "['G01 X4.5 Y9.0 Z0.0 F3000'] C2\n",
      "['G01 X9.0 Y0.0 Z0.0 F3000'] A3\n",
      "['G01 X13.5 Y4.5 Z0.0 F3000'] B4\n",
      "['G01 X0.0 Y9.0 Z0.0 F3000'] C1\n",
      "['G01 X9.0 Y0.0 Z0.0 F3000'] A3\n",
      "['G01 X13.5 Y4.5 Z0.0 F3000'] B4\n",
      "['G01 X4.5 Y9.0 Z0.0 F3000'] C2\n"
     ]
    }
   ],
   "source": [
    "for i in range(len(combinations_real)):\n",
    "    for k in range(len(combinations_real[1])):\n",
    "        print([f\"G01 X{combinations_real[i][k][1][0]} Y{combinations_real[i][k][1][1]} Z0.0 F3000\"] , combinations_real[i][k][0])  \n"
   ]
  },
  {
   "cell_type": "code",
   "execution_count": 74,
   "id": "29fba9a0",
   "metadata": {},
   "outputs": [
    {
     "data": {
      "text/html": [
       "<div>\n",
       "<style scoped>\n",
       "    .dataframe tbody tr th:only-of-type {\n",
       "        vertical-align: middle;\n",
       "    }\n",
       "\n",
       "    .dataframe tbody tr th {\n",
       "        vertical-align: top;\n",
       "    }\n",
       "\n",
       "    .dataframe thead th {\n",
       "        text-align: right;\n",
       "    }\n",
       "</style>\n",
       "<table border=\"1\" class=\"dataframe\">\n",
       "  <thead>\n",
       "    <tr style=\"text-align: right;\">\n",
       "      <th></th>\n",
       "      <th>well0</th>\n",
       "      <th>well1</th>\n",
       "      <th>well2</th>\n",
       "      <th>coordinates</th>\n",
       "    </tr>\n",
       "  </thead>\n",
       "  <tbody>\n",
       "  </tbody>\n",
       "</table>\n",
       "</div>"
      ],
      "text/plain": [
       "Empty DataFrame\n",
       "Columns: [well0, well1, well2, coordinates]\n",
       "Index: []"
      ]
     },
     "execution_count": 74,
     "metadata": {},
     "output_type": "execute_result"
    }
   ],
   "source": [
    "# This function calculates the amount of columns needed based on the rows. \n",
    "# This is used for the dataframe which keeps track of the combinations.\n",
    "\n",
    "A = range(len(set(rows)))\n",
    "def calculate_columns_needed(range):\n",
    "    columns_needed = []\n",
    "    for i in range:\n",
    "        columns_needed.append('well' + str(i))\n",
    "    columns_needed.append('coordinates')\n",
    "    return columns_needed\n",
    "\n",
    "R = calculate_columns_needed(A)\n",
    "df7 = pd.DataFrame(columns = R)\n",
    "df7\n",
    "\n",
    "# Don't plug this in just yet. The df.append() part later will mess up becasue the column names are manually put in there\n",
    "#Don't need this...solved above (this is for the dataframe which keeps track of the combinations)"
   ]
  },
  {
   "cell_type": "code",
   "execution_count": 133,
   "id": "d70c24ea",
   "metadata": {},
   "outputs": [],
   "source": [
    "# def append (element, well):\n",
    "#     df7 = df7.append({'element': well[0])"
   ]
  },
  {
   "cell_type": "code",
   "execution_count": 75,
   "id": "204256ac",
   "metadata": {},
   "outputs": [],
   "source": [
    "for combo in combinations_real:\n",
    "    wells = [c[0] for c in combo]\n",
    "    coords = [c[1] for c in combo] #can keep this\n",
    "#     df = df.append({'First_well': wells[0], 'Second_well': wells[1], 'Third_well': wells[2], 'Coordinates': coords},\n",
    "#                    ignore_index=True)\n",
    "\n",
    "#don't need this..Solved above (this was used for he dataframe whichkeeps track of the combinations)"
   ]
  },
  {
   "cell_type": "code",
   "execution_count": 134,
   "id": "123462d0",
   "metadata": {},
   "outputs": [
    {
     "name": "stdout",
     "output_type": "stream",
     "text": [
      "(('A1', (0.0, 0.0)), ('B1', (0.0, 4.5)), ('C2', (4.5, 9.0)))\n",
      "3\n"
     ]
    },
    {
     "ename": "TypeError",
     "evalue": "list indices must be integers or slices, not tuple",
     "output_type": "error",
     "traceback": [
      "\u001b[0;31m---------------------------------------------------------------------------\u001b[0m",
      "\u001b[0;31mTypeError\u001b[0m                                 Traceback (most recent call last)",
      "Cell \u001b[0;32mIn[134], line 4\u001b[0m\n\u001b[1;32m      2\u001b[0m \u001b[38;5;28mprint\u001b[39m(combinations_real[\u001b[38;5;241m1\u001b[39m])\n\u001b[1;32m      3\u001b[0m \u001b[38;5;28mprint\u001b[39m(\u001b[38;5;28mlen\u001b[39m(combinations_real[\u001b[38;5;241m1\u001b[39m]))\n\u001b[0;32m----> 4\u001b[0m values \u001b[38;5;241m=\u001b[39m \u001b[43m[\u001b[49m\u001b[43mcombinations_real\u001b[49m\u001b[43m[\u001b[49m\u001b[43mi\u001b[49m\u001b[43m]\u001b[49m\u001b[43m[\u001b[49m\u001b[38;5;241;43m0\u001b[39;49m\u001b[43m]\u001b[49m\u001b[43m \u001b[49m\u001b[38;5;28;43;01mfor\u001b[39;49;00m\u001b[43m \u001b[49m\u001b[43mi\u001b[49m\u001b[43m \u001b[49m\u001b[38;5;129;43;01min\u001b[39;49;00m\u001b[43m \u001b[49m\u001b[43mcombinations_real\u001b[49m\u001b[43m]\u001b[49m\n",
      "Cell \u001b[0;32mIn[134], line 4\u001b[0m, in \u001b[0;36m<listcomp>\u001b[0;34m(.0)\u001b[0m\n\u001b[1;32m      2\u001b[0m \u001b[38;5;28mprint\u001b[39m(combinations_real[\u001b[38;5;241m1\u001b[39m])\n\u001b[1;32m      3\u001b[0m \u001b[38;5;28mprint\u001b[39m(\u001b[38;5;28mlen\u001b[39m(combinations_real[\u001b[38;5;241m1\u001b[39m]))\n\u001b[0;32m----> 4\u001b[0m values \u001b[38;5;241m=\u001b[39m [\u001b[43mcombinations_real\u001b[49m\u001b[43m[\u001b[49m\u001b[43mi\u001b[49m\u001b[43m]\u001b[49m[\u001b[38;5;241m0\u001b[39m] \u001b[38;5;28;01mfor\u001b[39;00m i \u001b[38;5;129;01min\u001b[39;00m combinations_real]\n",
      "\u001b[0;31mTypeError\u001b[0m: list indices must be integers or slices, not tuple"
     ]
    }
   ],
   "source": [
    "wells[0] = combinations_real[1][0]\n",
    "print(combinations_real[1])\n",
    "print(len(combinations_real[1]))\n",
    "values = [combinations_real[i][0] for i in combinations_real]\n"
   ]
  },
  {
   "cell_type": "code",
   "execution_count": null,
   "id": "3e6b09bc",
   "metadata": {},
   "outputs": [],
   "source": []
  },
  {
   "cell_type": "code",
   "execution_count": null,
   "id": "f61eb242",
   "metadata": {},
   "outputs": [],
   "source": []
  },
  {
   "cell_type": "code",
   "execution_count": 46,
   "id": "4be61f87",
   "metadata": {},
   "outputs": [
    {
     "data": {
      "text/plain": [
       "'A1'"
      ]
     },
     "execution_count": 46,
     "metadata": {},
     "output_type": "execute_result"
    }
   ],
   "source": [
    "wells_coords[0][0]"
   ]
  },
  {
   "cell_type": "code",
   "execution_count": null,
   "id": "eb94157f",
   "metadata": {},
   "outputs": [],
   "source": []
  },
  {
   "cell_type": "code",
   "execution_count": null,
   "id": "c013bea2",
   "metadata": {},
   "outputs": [],
   "source": []
  },
  {
   "cell_type": "code",
   "execution_count": 68,
   "id": "d3097157",
   "metadata": {},
   "outputs": [
    {
     "data": {
      "text/plain": [
       "[([('A1', (0.0, 0.0)), ('A2', (4.5, 0.0)), ('A3', (9.0, 0.0))],),\n",
       " ([('B1', (0.0, 4.5)),\n",
       "   ('B2', (4.5, 4.5)),\n",
       "   ('B3', (9.0, 4.5)),\n",
       "   ('B4', (13.5, 4.5))],)]"
      ]
     },
     "execution_count": 68,
     "metadata": {},
     "output_type": "execute_result"
    }
   ],
   "source": [
    "slick = ['A', 'B']\n",
    "slick1 = list(itertools.product([w for w in wells_coords if w[0][0] == i] for i in slick))\n",
    "slick1"
   ]
  },
  {
   "cell_type": "code",
   "execution_count": 5,
   "id": "a2189941",
   "metadata": {},
   "outputs": [
    {
     "data": {
      "text/plain": [
       "['well_0', 'well_1', 'well_2', 'coordinates']"
      ]
     },
     "execution_count": 5,
     "metadata": {},
     "output_type": "execute_result"
    }
   ],
   "source": [
    "'''Here, components_coords is a list of lists, where each inner list contains the well coordinates \n",
    "for a particular component. The * operator is used to unpack this list of lists into separate arguments \n",
    "for the product function.'''\n",
    "\n",
    "# components = ['A', 'B', 'C']\n",
    "components = list(set(rows))\n",
    "components_coords = [[w for w in wells_coords if w[0][0] == c] for c in components]\n",
    "combinations_real1 = list(itertools.product(*components_coords))\n",
    "\n",
    "#This tells the order each well is sampled for the dataframe (makes columns of it)\n",
    "wells_to_sample1 = range(len(set(rows)))\n",
    "columns1 = list('well_'+ str(i) for i in wells_to_sample1) + ['coordinates']\n",
    "\n",
    "columns1\n",
    "\n"
   ]
  },
  {
   "cell_type": "code",
   "execution_count": null,
   "id": "4ec65776",
   "metadata": {},
   "outputs": [],
   "source": []
  },
  {
   "cell_type": "code",
   "execution_count": null,
   "id": "5dd45168",
   "metadata": {},
   "outputs": [],
   "source": []
  }
 ],
 "metadata": {
  "kernelspec": {
   "display_name": "Python 3 (ipykernel)",
   "language": "python",
   "name": "python3"
  },
  "language_info": {
   "codemirror_mode": {
    "name": "ipython",
    "version": 3
   },
   "file_extension": ".py",
   "mimetype": "text/x-python",
   "name": "python",
   "nbconvert_exporter": "python",
   "pygments_lexer": "ipython3",
   "version": "3.11.1"
  }
 },
 "nbformat": 4,
 "nbformat_minor": 5
}
