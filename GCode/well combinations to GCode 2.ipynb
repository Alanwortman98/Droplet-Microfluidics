{
 "cells": [
  {
   "cell_type": "code",
   "execution_count": 2,
   "id": "ac501b21",
   "metadata": {
    "scrolled": false
   },
   "outputs": [],
   "source": [
    "import numpy as np\n",
    "\n",
    "# photocatalysts, bases, and reagents are the variables you wish to screen.\n",
    "# each list is a row in the well plate which corresponds to one variable you want to screen.\n",
    "# the list contains a set of x,y coordinates which define a well on the well plate.\n",
    "# each well is spread out 4.5 mm from the next one\n",
    "\n",
    "PFD_oil = [[0.0, 0.0]]\n",
    "photocatalysts = [[4.5, 4.5], [9.0, 4.5], [13.5, 4.5]]\n",
    "bases = [[4.5, 9.0], [9.0, 9.0], [13.5, 9.0]]\n",
    "reagents = [[4.5, 13.5], [9.0, 13.5], [13.5, 13.5]]\n",
    "\n",
    "lines = []\n",
    "\n",
    "# this samples the PFD well at the beginning of the experiment to load PFD into the tubing.\n",
    "# the PFD well will have one long sample before the screen and is thus included before the loop.\n",
    "\n",
    "for PFD in PFD_oil:\n",
    "    lines.append([f\"G01 X{PFD[0]} Y{PFD[1]} Z0.0 F3000\"])\n",
    "    lines.append([f\"G01 X{PFD[0]} Y{PFD[1]} Z-5.5 F3000\"])\n",
    "    lines.append([\"G04 P10\"])\n",
    "    lines.append([f\"G01 X{PFD[0]} Y{PFD[1]} Z0.0 F3000\"])\n",
    "    lines.append([\"\"])\n",
    "    \n",
    "# This is the loop that makes the combinations of the wells which have been specified. \n",
    "# It will sample the PFD well at the end of each loop to space the droplet sets.\n",
    "\n",
    "\n",
    "for PFD in PFD_oil:\n",
    "    for R in reagents:\n",
    "        for B in bases:\n",
    "            for PC in photocatalysts:\n",
    "                lines.append([f\"G01 X{PC[0]} Y{PC[1]} Z0.0 F3000\"])\n",
    "                lines.append([f\"G01 X{PC[0]} Y{PC[1]} Z-5.5 F3000\"])\n",
    "                lines.append([\"G04 P0.5\"])\n",
    "                lines.append([f\"G01 X{PC[0]} Y{PC[1]} Z0.0 F3000\"])\n",
    "                lines.append([\"\"])\n",
    "                \n",
    "                lines.append([f\"G01 X{B[0]} Y{B[1]} Z0.0 F3000\"])\n",
    "                lines.append([f\"G01 X{B[0]} Y{B[1]} Z-5.5 F3000\"])\n",
    "                lines.append([\"G04 P0.5\"])\n",
    "                lines.append([f\"G01 X{B[0]} Y{B[1]} Z0.0 F3000\"])\n",
    "                lines.append([\"\"])\n",
    "               \n",
    "                lines.append([f\"G01 X{R[0]} Y{R[1]} Z0.0 F3000\"])\n",
    "                lines.append([f\"G01 X{R[0]} Y{R[1]} Z-5.5 F3000\"])\n",
    "                lines.append([\"G04 P0.5\"])\n",
    "                lines.append([f\"G01 X{R[0]} Y{R[1]} Z0.0 F3000\"])\n",
    "                lines.append([\"\"])\n",
    "                \n",
    "                lines.append([f\"G01 X{PFD[0]} Y{PFD[1]} Z0.0 F3000\"])\n",
    "                lines.append([f\"G01 X{PFD[0]} Y{PFD[1]} Z-5.5 F3000\"])\n",
    "                lines.append([\"G04 P0.5\"])\n",
    "                lines.append([f\"G01 X{PFD[0]} Y{PFD[1]} Z0.0 F3000\"])\n",
    "                lines.append([\"\"])\n",
    "            \n",
    "lines = np.asarray(lines)"
   ]
  },
  {
   "cell_type": "code",
   "execution_count": 6,
   "id": "d39ab6ce",
   "metadata": {},
   "outputs": [],
   "source": [
    "np.savetxt(\"GCodes.txt\", lines, fmt = '%s')"
   ]
  }
 ],
 "metadata": {
  "kernelspec": {
   "display_name": "Python 3 (ipykernel)",
   "language": "python",
   "name": "python3"
  },
  "language_info": {
   "codemirror_mode": {
    "name": "ipython",
    "version": 3
   },
   "file_extension": ".py",
   "mimetype": "text/x-python",
   "name": "python",
   "nbconvert_exporter": "python",
   "pygments_lexer": "ipython3",
   "version": "3.11.1"
  }
 },
 "nbformat": 4,
 "nbformat_minor": 5
}
